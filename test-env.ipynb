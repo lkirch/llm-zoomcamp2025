{
 "cells": [
  {
   "cell_type": "code",
   "execution_count": 2,
   "id": "c41d756b-2146-41b7-9bd6-a9a3c97fad50",
   "metadata": {},
   "outputs": [],
   "source": [
    "from openai import OpenAI"
   ]
  },
  {
   "cell_type": "code",
   "execution_count": 3,
   "id": "2ab48bd3-0ce6-4ae6-af77-4b7706ad4db6",
   "metadata": {},
   "outputs": [],
   "source": [
    "client = OpenAI()"
   ]
  },
  {
   "cell_type": "code",
   "execution_count": 5,
   "id": "28567b25-1a68-4576-997e-d08080f9d7ce",
   "metadata": {},
   "outputs": [],
   "source": [
    "import os"
   ]
  },
  {
   "cell_type": "code",
   "execution_count": 6,
   "id": "1b267e9b-0618-47f0-b285-9d724de9d4ef",
   "metadata": {},
   "outputs": [],
   "source": [
    "#os.environ"
   ]
  },
  {
   "cell_type": "code",
   "execution_count": 8,
   "id": "175abea7-d234-4390-b1ed-c2e76c03763b",
   "metadata": {},
   "outputs": [],
   "source": [
    "response = client.chat.completions.create(\n",
    "    model='gpt-4.1',\n",
    "    messages=[{\"role\": \"user\", \"content\": \"is it too late to join the course?\"}]\n",
    ")"
   ]
  },
  {
   "cell_type": "code",
   "execution_count": 9,
   "id": "3c3716b4-3e51-42b4-912c-e8a5ad9f1f70",
   "metadata": {},
   "outputs": [
    {
     "data": {
      "text/plain": [
       "ChatCompletion(id='chatcmpl-Be6TQrmsGczglFbQBVsUIiA7kbG3h', choices=[Choice(finish_reason='stop', index=0, logprobs=None, message=ChatCompletionMessage(content=\"I'm happy to help! But I'll need a bit more information to answer your question accurately. Could you please clarify:\\n\\n- Which course are you asking about (name or subject)?\\n- Which institution or platform is offering the course?\\n- When does the course start or when did it start?\\n\\nWith a bit more detail, I can provide the most relevant guidance for your situation!\", refusal=None, role='assistant', annotations=[], audio=None, function_call=None, tool_calls=None))], created=1748897704, model='gpt-4.1-2025-04-14', object='chat.completion', service_tier='default', system_fingerprint='fp_51e1070cf2', usage=CompletionUsage(completion_tokens=74, prompt_tokens=16, total_tokens=90, completion_tokens_details=CompletionTokensDetails(accepted_prediction_tokens=0, audio_tokens=0, reasoning_tokens=0, rejected_prediction_tokens=0), prompt_tokens_details=PromptTokensDetails(audio_tokens=0, cached_tokens=0)))"
      ]
     },
     "execution_count": 9,
     "metadata": {},
     "output_type": "execute_result"
    }
   ],
   "source": [
    "response"
   ]
  },
  {
   "cell_type": "code",
   "execution_count": 10,
   "id": "0c3c8f6c-6f3b-4420-b5f1-43284d104335",
   "metadata": {},
   "outputs": [
    {
     "data": {
      "text/plain": [
       "\"I'm happy to help! But I'll need a bit more information to answer your question accurately. Could you please clarify:\\n\\n- Which course are you asking about (name or subject)?\\n- Which institution or platform is offering the course?\\n- When does the course start or when did it start?\\n\\nWith a bit more detail, I can provide the most relevant guidance for your situation!\""
      ]
     },
     "execution_count": 10,
     "metadata": {},
     "output_type": "execute_result"
    }
   ],
   "source": [
    "response.choices[0].message.content"
   ]
  },
  {
   "cell_type": "code",
   "execution_count": null,
   "id": "95d414cc-0634-441c-8ec7-65d0ee1d2ad2",
   "metadata": {},
   "outputs": [],
   "source": []
  }
 ],
 "metadata": {
  "kernelspec": {
   "display_name": "Python 3 (ipykernel)",
   "language": "python",
   "name": "python3"
  },
  "language_info": {
   "codemirror_mode": {
    "name": "ipython",
    "version": 3
   },
   "file_extension": ".py",
   "mimetype": "text/x-python",
   "name": "python",
   "nbconvert_exporter": "python",
   "pygments_lexer": "ipython3",
   "version": "3.12.1"
  }
 },
 "nbformat": 4,
 "nbformat_minor": 5
}

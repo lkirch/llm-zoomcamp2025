{
 "cells": [
  {
   "cell_type": "markdown",
   "id": "992ccd5f",
   "metadata": {},
   "source": [
    "### Homework: Agents\n",
    "\n",
    "In this homework, we will learn more about function calling, and we will also explore MCP - model-contect-protocol."
   ]
  },
  {
   "cell_type": "code",
   "execution_count": 1,
   "id": "1be308d3",
   "metadata": {},
   "outputs": [],
   "source": [
    "import random"
   ]
  },
  {
   "cell_type": "markdown",
   "id": "b298f317",
   "metadata": {},
   "source": [
    "### Preparation\n",
    "\n",
    "First, we'll define a function that we will use when building our agent.\n",
    "\n",
    "It will generate fake weather data:"
   ]
  },
  {
   "cell_type": "code",
   "execution_count": 2,
   "id": "cc258370",
   "metadata": {},
   "outputs": [],
   "source": [
    "known_weather_data = {\n",
    "    'berlin': 20.0\n",
    "}"
   ]
  },
  {
   "cell_type": "code",
   "execution_count": 3,
   "id": "ea3e7e20",
   "metadata": {},
   "outputs": [],
   "source": [
    "def get_weather(city: str) -> float:\n",
    "    city = city.strip().lower()\n",
    "\n",
    "    if city in known_weather_data:\n",
    "        return known_weather_data[city]\n",
    "\n",
    "    return round(random.uniform(-5, 35), 1)"
   ]
  },
  {
   "cell_type": "markdown",
   "id": "8754b95f",
   "metadata": {},
   "source": [
    "### Q1. Define function description\n",
    "\n",
    "We want to use it as a tool for our agent, so we will need to describe it."
   ]
  },
  {
   "cell_type": "code",
   "execution_count": 4,
   "id": "9a92edf6",
   "metadata": {},
   "outputs": [],
   "source": [
    "get_weather_tool = {\n",
    "    \"type\": \"function\",\n",
    "    \"name\": \"get_weather\",\n",
    "    \"description\": \"Get weather data\",\n",
    "    \"parameters\": {\n",
    "        \"type\": \"object\",\n",
    "        \"properties\": {\n",
    "            \"query\": {\n",
    "                \"type\": \"string\",\n",
    "                \"description\": \"The question about weather for a location\"\n",
    "            }\n",
    "        },\n",
    "        \"required\": [\"query\"],\n",
    "        \"additionalProperties\": False\n",
    "    }\n",
    "}"
   ]
  },
  {
   "cell_type": "markdown",
   "id": "c694197d",
   "metadata": {},
   "source": [
    "What did you put in TODO3?"
   ]
  },
  {
   "cell_type": "markdown",
   "id": "393317d9",
   "metadata": {},
   "source": [
    "### A1. TODO3 has the value \"query\""
   ]
  },
  {
   "cell_type": "markdown",
   "id": "037b26f0",
   "metadata": {},
   "source": [
    "### Testing (Optional)\n",
    "\n",
    "If you have an OpenAI API Key (or alternative provider), let's test it.\n",
    "\n",
    "A question could be \"What's the weather like in Germany?\"\n",
    "\n",
    "Experiment with different system prompts to have better answers from the system.\n",
    "\n",
    "You can use [chat_assistant.py](https://github.com/alexeygrigorev/rag-agents-workshop/blob/main/chat_assistant.py)\n",
    "or implement everything yourself \n",
    "\n",
    "```bash\n",
    "wget https://raw.githubusercontent.com/alexeygrigorev/rag-agents-workshop/refs/heads/main/chat_assistant.py\n",
    "```"
   ]
  },
  {
   "cell_type": "code",
   "execution_count": 5,
   "id": "d1d3f226",
   "metadata": {},
   "outputs": [
    {
     "data": {
      "text/plain": [
       "[{'type': 'function',\n",
       "  'name': 'get_weather',\n",
       "  'description': 'Get weather data',\n",
       "  'parameters': {'type': 'object',\n",
       "   'properties': {'query': {'type': 'string',\n",
       "     'description': 'The question about weather for a location'}},\n",
       "   'required': ['query'],\n",
       "   'additionalProperties': False}}]"
      ]
     },
     "execution_count": 5,
     "metadata": {},
     "output_type": "execute_result"
    }
   ],
   "source": [
    "import chat_assistant\n",
    "\n",
    "tools = chat_assistant.Tools()\n",
    "tools.add_tool(get_weather, get_weather_tool)\n",
    "\n",
    "tools.get_tools()"
   ]
  },
  {
   "cell_type": "markdown",
   "id": "746f6355",
   "metadata": {},
   "source": [
    "### Q2. Adding Another Tool\n",
    "\n",
    "Let's add another tool - a function that can add weather data to our database:"
   ]
  },
  {
   "cell_type": "code",
   "execution_count": 6,
   "id": "e96c523d",
   "metadata": {},
   "outputs": [],
   "source": [
    "def set_weather(city: str, temp: float) -> None:\n",
    "    city = city.strip().lower()\n",
    "    known_weather_data[city] = temp\n",
    "    return 'OK'"
   ]
  },
  {
   "cell_type": "markdown",
   "id": "2eee7354",
   "metadata": {},
   "source": [
    "Now let's write a description for it."
   ]
  },
  {
   "cell_type": "markdown",
   "id": "173051eb",
   "metadata": {},
   "source": [
    "### A2. Description for set_weather"
   ]
  },
  {
   "cell_type": "code",
   "execution_count": 7,
   "id": "13568ca2",
   "metadata": {},
   "outputs": [],
   "source": [
    "set_weather_tool = {\n",
    "    \"type\": \"function\",\n",
    "    \"name\": \"set_weather\",\n",
    "    \"description\": \"Adds weather data to the database\",\n",
    "    \"parameters\": {\n",
    "        \"type\": \"object\",\n",
    "        \"properties\": {\n",
    "            \"query\": {\n",
    "                \"type\": \"string\",\n",
    "                \"description\": \"Gets the weather for a location\"\n",
    "            },\n",
    "            \"weather_location\": {\n",
    "                \"type\": \"string\",\n",
    "                \"description\": \"Name of city\",\n",
    "            },\n",
    "            \"temperature\": {\n",
    "                \"type\": \"float\",\n",
    "                \"description\": \"Temperature\"\n",
    "            }\n",
    "        },\n",
    "        \"required\": [\"query\", \"weather_location\", \"temperature\"],\n",
    "        \"additionalProperties\": False\n",
    "    }\n",
    "}"
   ]
  },
  {
   "cell_type": "code",
   "execution_count": 8,
   "id": "b4070929",
   "metadata": {},
   "outputs": [
    {
     "data": {
      "text/plain": [
       "[{'type': 'function',\n",
       "  'name': 'get_weather',\n",
       "  'description': 'Get weather data',\n",
       "  'parameters': {'type': 'object',\n",
       "   'properties': {'query': {'type': 'string',\n",
       "     'description': 'The question about weather for a location'}},\n",
       "   'required': ['query'],\n",
       "   'additionalProperties': False}},\n",
       " {'type': 'function',\n",
       "  'name': 'set_weather',\n",
       "  'description': 'Adds weather data to the database',\n",
       "  'parameters': {'type': 'object',\n",
       "   'properties': {'query': {'type': 'string',\n",
       "     'description': 'Gets the weather for a location'},\n",
       "    'weather_location': {'type': 'string', 'description': 'Name of city'},\n",
       "    'temperature': {'type': 'float', 'description': 'Temperature'}},\n",
       "   'required': ['query', 'weather_location', 'temperature'],\n",
       "   'additionalProperties': False}}]"
      ]
     },
     "execution_count": 8,
     "metadata": {},
     "output_type": "execute_result"
    }
   ],
   "source": [
    "tools.add_tool(set_weather, set_weather_tool)\n",
    "\n",
    "tools.get_tools()"
   ]
  },
  {
   "cell_type": "markdown",
   "id": "1b0e4c52",
   "metadata": {},
   "source": [
    "### MCP\n",
    "\n",
    "MCP stands for Model-Contect Protocol.  It allows LLMs to communicate with different tools (like Qdrant).  It's function calling, but one step further:\n",
    "\n",
    "* A tool can export a list of functions it has\n",
    "* When we include the tool to our Agent, we just need to include the link to the MCP server"
   ]
  },
  {
   "cell_type": "markdown",
   "id": "45e59d70",
   "metadata": {},
   "source": [
    "### Q3. Install FastMCP\n",
    "\n",
    "Let's install a library for MCP - [FastMCP](https://github.com/jlowin/fastmcp):"
   ]
  },
  {
   "cell_type": "code",
   "execution_count": 9,
   "id": "576470b9",
   "metadata": {},
   "outputs": [
    {
     "name": "stdout",
     "output_type": "stream",
     "text": [
      "Requirement already satisfied: fastmcp in /usr/local/python/3.12.1/lib/python3.12/site-packages (2.10.4)\n",
      "Requirement already satisfied: authlib>=1.5.2 in /usr/local/python/3.12.1/lib/python3.12/site-packages (from fastmcp) (1.6.0)\n",
      "Requirement already satisfied: cyclopts>=3.0.0 in /usr/local/python/3.12.1/lib/python3.12/site-packages (from fastmcp) (3.22.2)\n",
      "Requirement already satisfied: exceptiongroup>=1.2.2 in /usr/local/python/3.12.1/lib/python3.12/site-packages (from fastmcp) (1.3.0)\n",
      "Requirement already satisfied: httpx>=0.28.1 in /home/codespace/.local/lib/python3.12/site-packages (from fastmcp) (0.28.1)\n",
      "Requirement already satisfied: mcp>=1.10.0 in /usr/local/python/3.12.1/lib/python3.12/site-packages (from fastmcp) (1.10.1)\n",
      "Requirement already satisfied: openapi-pydantic>=0.5.1 in /usr/local/python/3.12.1/lib/python3.12/site-packages (from fastmcp) (0.5.1)\n",
      "Requirement already satisfied: pydantic>=2.11.7 in /usr/local/python/3.12.1/lib/python3.12/site-packages (from pydantic[email]>=2.11.7->fastmcp) (2.11.7)\n",
      "Requirement already satisfied: pyperclip>=1.9.0 in /usr/local/python/3.12.1/lib/python3.12/site-packages (from fastmcp) (1.9.0)\n",
      "Requirement already satisfied: python-dotenv>=1.1.0 in /usr/local/python/3.12.1/lib/python3.12/site-packages (from fastmcp) (1.1.1)\n",
      "Requirement already satisfied: rich>=13.9.4 in /usr/local/python/3.12.1/lib/python3.12/site-packages (from fastmcp) (14.0.0)\n",
      "Requirement already satisfied: cryptography in /usr/local/python/3.12.1/lib/python3.12/site-packages (from authlib>=1.5.2->fastmcp) (45.0.4)\n",
      "Requirement already satisfied: attrs>=23.1.0 in /home/codespace/.local/lib/python3.12/site-packages (from cyclopts>=3.0.0->fastmcp) (25.3.0)\n",
      "Requirement already satisfied: docstring-parser>=0.15 in /usr/local/python/3.12.1/lib/python3.12/site-packages (from cyclopts>=3.0.0->fastmcp) (0.16)\n",
      "Requirement already satisfied: rich-rst<2.0.0,>=1.3.1 in /usr/local/python/3.12.1/lib/python3.12/site-packages (from cyclopts>=3.0.0->fastmcp) (1.3.1)\n",
      "Requirement already satisfied: docutils in /usr/local/python/3.12.1/lib/python3.12/site-packages (from rich-rst<2.0.0,>=1.3.1->cyclopts>=3.0.0->fastmcp) (0.21.2)\n",
      "Requirement already satisfied: typing-extensions>=4.6.0 in /home/codespace/.local/lib/python3.12/site-packages (from exceptiongroup>=1.2.2->fastmcp) (4.12.2)\n",
      "Requirement already satisfied: anyio in /home/codespace/.local/lib/python3.12/site-packages (from httpx>=0.28.1->fastmcp) (4.9.0)\n",
      "Requirement already satisfied: certifi in /home/codespace/.local/lib/python3.12/site-packages (from httpx>=0.28.1->fastmcp) (2025.1.31)\n",
      "Requirement already satisfied: httpcore==1.* in /home/codespace/.local/lib/python3.12/site-packages (from httpx>=0.28.1->fastmcp) (1.0.7)\n",
      "Requirement already satisfied: idna in /home/codespace/.local/lib/python3.12/site-packages (from httpx>=0.28.1->fastmcp) (3.10)\n",
      "Requirement already satisfied: h11<0.15,>=0.13 in /home/codespace/.local/lib/python3.12/site-packages (from httpcore==1.*->httpx>=0.28.1->fastmcp) (0.14.0)\n",
      "Requirement already satisfied: httpx-sse>=0.4 in /usr/local/python/3.12.1/lib/python3.12/site-packages (from mcp>=1.10.0->fastmcp) (0.4.0)\n",
      "Requirement already satisfied: jsonschema>=4.20.0 in /home/codespace/.local/lib/python3.12/site-packages (from mcp>=1.10.0->fastmcp) (4.23.0)\n",
      "Requirement already satisfied: pydantic-settings>=2.5.2 in /usr/local/python/3.12.1/lib/python3.12/site-packages (from mcp>=1.10.0->fastmcp) (2.10.1)\n",
      "Requirement already satisfied: python-multipart>=0.0.9 in /usr/local/python/3.12.1/lib/python3.12/site-packages (from mcp>=1.10.0->fastmcp) (0.0.20)\n",
      "Requirement already satisfied: sse-starlette>=1.6.1 in /usr/local/python/3.12.1/lib/python3.12/site-packages (from mcp>=1.10.0->fastmcp) (2.4.1)\n",
      "Requirement already satisfied: starlette>=0.27 in /usr/local/python/3.12.1/lib/python3.12/site-packages (from mcp>=1.10.0->fastmcp) (0.45.3)\n",
      "Requirement already satisfied: uvicorn>=0.23.1 in /usr/local/python/3.12.1/lib/python3.12/site-packages (from mcp>=1.10.0->fastmcp) (0.35.0)\n",
      "Requirement already satisfied: annotated-types>=0.6.0 in /usr/local/python/3.12.1/lib/python3.12/site-packages (from pydantic>=2.11.7->pydantic[email]>=2.11.7->fastmcp) (0.7.0)\n",
      "Requirement already satisfied: pydantic-core==2.33.2 in /usr/local/python/3.12.1/lib/python3.12/site-packages (from pydantic>=2.11.7->pydantic[email]>=2.11.7->fastmcp) (2.33.2)\n",
      "Requirement already satisfied: typing-inspection>=0.4.0 in /usr/local/python/3.12.1/lib/python3.12/site-packages (from pydantic>=2.11.7->pydantic[email]>=2.11.7->fastmcp) (0.4.1)\n",
      "Requirement already satisfied: sniffio>=1.1 in /home/codespace/.local/lib/python3.12/site-packages (from anyio->httpx>=0.28.1->fastmcp) (1.3.1)\n",
      "Requirement already satisfied: jsonschema-specifications>=2023.03.6 in /home/codespace/.local/lib/python3.12/site-packages (from jsonschema>=4.20.0->mcp>=1.10.0->fastmcp) (2024.10.1)\n",
      "Requirement already satisfied: referencing>=0.28.4 in /home/codespace/.local/lib/python3.12/site-packages (from jsonschema>=4.20.0->mcp>=1.10.0->fastmcp) (0.36.2)\n",
      "Requirement already satisfied: rpds-py>=0.7.1 in /home/codespace/.local/lib/python3.12/site-packages (from jsonschema>=4.20.0->mcp>=1.10.0->fastmcp) (0.23.1)\n",
      "Requirement already satisfied: email-validator>=2.0.0 in /usr/local/python/3.12.1/lib/python3.12/site-packages (from pydantic[email]>=2.11.7->fastmcp) (2.2.0)\n",
      "Requirement already satisfied: dnspython>=2.0.0 in /usr/local/python/3.12.1/lib/python3.12/site-packages (from email-validator>=2.0.0->pydantic[email]>=2.11.7->fastmcp) (2.7.0)\n",
      "Requirement already satisfied: markdown-it-py>=2.2.0 in /usr/local/python/3.12.1/lib/python3.12/site-packages (from rich>=13.9.4->fastmcp) (3.0.0)\n",
      "Requirement already satisfied: pygments<3.0.0,>=2.13.0 in /home/codespace/.local/lib/python3.12/site-packages (from rich>=13.9.4->fastmcp) (2.19.1)\n",
      "Requirement already satisfied: mdurl~=0.1 in /usr/local/python/3.12.1/lib/python3.12/site-packages (from markdown-it-py>=2.2.0->rich>=13.9.4->fastmcp) (0.1.2)\n",
      "Requirement already satisfied: click>=7.0 in /usr/local/python/3.12.1/lib/python3.12/site-packages (from uvicorn>=0.23.1->mcp>=1.10.0->fastmcp) (8.2.1)\n",
      "Requirement already satisfied: cffi>=1.14 in /home/codespace/.local/lib/python3.12/site-packages (from cryptography->authlib>=1.5.2->fastmcp) (1.17.1)\n",
      "Requirement already satisfied: pycparser in /home/codespace/.local/lib/python3.12/site-packages (from cffi>=1.14->cryptography->authlib>=1.5.2->fastmcp) (2.22)\n",
      "Note: you may need to restart the kernel to use updated packages.\n"
     ]
    }
   ],
   "source": [
    "%pip install fastmcp"
   ]
  },
  {
   "cell_type": "markdown",
   "id": "44aad606",
   "metadata": {},
   "source": [
    "What is the version of FastMCP you installed?"
   ]
  },
  {
   "cell_type": "code",
   "execution_count": 10,
   "id": "ddb3de05",
   "metadata": {},
   "outputs": [
    {
     "name": "stdout",
     "output_type": "stream",
     "text": [
      "2.10.4\n"
     ]
    }
   ],
   "source": [
    "import fastmcp\n",
    "print(fastmcp.__version__)"
   ]
  },
  {
   "cell_type": "markdown",
   "id": "33dbf115",
   "metadata": {},
   "source": [
    "### A3. We are using FastMCP version 2.10.4"
   ]
  },
  {
   "cell_type": "markdown",
   "id": "e1fada24",
   "metadata": {},
   "source": [
    "### Q4. Simple MCP Server\n",
    "\n",
    "A simple MCP server from the documentation looks like:\n",
    "\n",
    "```python\n",
    "# weather_server.py\n",
    "from fastmcp import FastMCP\n",
    "\n",
    "mcp = FastMCP(\"Demo 🚀\")\n",
    "\n",
    "@mcp.tool\n",
    "def add(a: int, b: int) -> int:\n",
    "    \"\"\"Add two numbers\"\"\"\n",
    "    return a + b\n",
    "\n",
    "if __name__ == \"__main__\":\n",
    "    mcp.run()\n",
    "```\n",
    "\n",
    "In our case, we need to write docstrings for our functions."
   ]
  },
  {
   "cell_type": "markdown",
   "id": "b22a49e1",
   "metadata": {},
   "source": [
    "Implemented in weather_server.py\n",
    "\n",
    "```python\n",
    "from fastmcp import FastMCP\n",
    "\n",
    "mcp = FastMCP(\"Demo 🚀\")\n",
    "\n",
    "@mcp.tool\n",
    "def get_weather(city: str) -> float:\n",
    "    \"\"\"\n",
    "    Retrieves the temperature for a specified city.\n",
    "\n",
    "    Parameters:\n",
    "        city (str): The name of the city for which to retrieve weather data.\n",
    "\n",
    "    Returns:\n",
    "        float: The temperature associated with the city.\n",
    "    \"\"\"\n",
    "    city = city.strip().lower()\n",
    "    if city in known_weather_data:\n",
    "        return known_weather_data[city]\n",
    "    return round(random.uniform(-5, 35), 1)\n",
    "\n",
    "@mcp.tool\n",
    "def set_weather(city: str, temp: float) -> None:\n",
    "    \"\"\"\n",
    "    Sets the temperature for a specified city.\n",
    "\n",
    "    Parameters:\n",
    "        city (str): The name of the city for which to set the weather data.\n",
    "        temp (float): The temperature to associate with the city.\n",
    "\n",
    "    Returns:\n",
    "        str: A confirmation string 'OK' indicating successful update.\n",
    "    \"\"\"\n",
    "    city = city.strip().lower()\n",
    "    known_weather_data[city] = temp\n",
    "    return 'OK'\n",
    "\n",
    "if __name__ == \"__main__\":\n",
    "    mcp.run()\n",
    "\n",
    "```"
   ]
  },
  {
   "cell_type": "markdown",
   "id": "bb5768d7",
   "metadata": {},
   "source": [
    "What do you see in the output?"
   ]
  },
  {
   "cell_type": "markdown",
   "id": "4b2950b6",
   "metadata": {},
   "source": [
    "### A4. The output shows Starting MCP server 'Demo 🚀' with transport STDIO"
   ]
  },
  {
   "cell_type": "markdown",
   "id": "98ec25e2",
   "metadata": {},
   "source": [
    "### Q5. Protocol\n",
    "\n",
    "There are different ways to communicate with an MCP server.  Ours is currently running using standard input/output, which means the client writes something to stdin and reads the answer using stdout.\n",
    "\n",
    "Our weather server is currently running.\n",
    "\n",
    "```bash\n",
    "fastmcp run weather_server.py:mcp\n",
    "```\n",
    "\n",
    "This is how we start communicating with it:\n",
    "\n",
    "First, we send an initialization request -- this way, we register our client with the server:"
   ]
  },
  {
   "cell_type": "code",
   "execution_count": 11,
   "id": "0c9fd1c7",
   "metadata": {},
   "outputs": [
    {
     "data": {
      "text/plain": [
       "{'jsonrpc': '2.0',\n",
       " 'id': 1,\n",
       " 'method': 'initialize',\n",
       " 'params': {'protocolVersion': '2024-11-05',\n",
       "  'capabilities': {'roots': {'listChanged': True}, 'sampling': {}},\n",
       "  'clientInfo': {'name': 'test-client', 'version': '1.0.0'}}}"
      ]
     },
     "execution_count": 11,
     "metadata": {},
     "output_type": "execute_result"
    }
   ],
   "source": [
    "{\n",
    "    \"jsonrpc\": \"2.0\",\n",
    "    \"id\": 1,\n",
    "    \"method\": \"initialize\",\n",
    "    \"params\": {\n",
    "        \"protocolVersion\": \"2024-11-05\",\n",
    "        \"capabilities\": {\n",
    "            \"roots\": {\n",
    "                \"listChanged\": True\n",
    "            },\n",
    "            \"sampling\": {}\n",
    "        },\n",
    "        \"clientInfo\": {\n",
    "            \"name\": \"test-client\",\n",
    "            \"version\": \"1.0.0\"\n",
    "        }\n",
    "    }\n",
    "}\n"
   ]
  },
  {
   "cell_type": "markdown",
   "id": "ac719221",
   "metadata": {},
   "source": [
    "We should get back something like that, which is an acknowledgement of the request:"
   ]
  },
  {
   "cell_type": "markdown",
   "id": "85bb9189",
   "metadata": {},
   "source": [
    " Next, we reply back, confirming the initialization:"
   ]
  },
  {
   "cell_type": "code",
   "execution_count": 12,
   "id": "d5ec65bc",
   "metadata": {},
   "outputs": [
    {
     "data": {
      "text/plain": [
       "{'jsonrpc': '2.0', 'method': 'notifications/initialized'}"
      ]
     },
     "execution_count": 12,
     "metadata": {},
     "output_type": "execute_result"
    }
   ],
   "source": [
    "{\"jsonrpc\": \"2.0\", \"method\": \"notifications/initialized\"}"
   ]
  },
  {
   "cell_type": "markdown",
   "id": "0426b402",
   "metadata": {},
   "source": [
    "Now we can ask for a list of available methods:"
   ]
  },
  {
   "cell_type": "code",
   "execution_count": 50,
   "id": "074adcce",
   "metadata": {},
   "outputs": [
    {
     "data": {
      "text/plain": [
       "{'jsonrpc': '2.0', 'id': 2, 'method': 'tools/list'}"
      ]
     },
     "execution_count": 50,
     "metadata": {},
     "output_type": "execute_result"
    }
   ],
   "source": [
    "{\"jsonrpc\": \"2.0\", \"id\": 2, \"method\": \"tools/list\"}"
   ]
  },
  {
   "cell_type": "markdown",
   "id": "23513f21",
   "metadata": {},
   "source": [
    "We don't expect to get anything in response"
   ]
  },
  {
   "cell_type": "code",
   "execution_count": 13,
   "id": "d37a48e9",
   "metadata": {},
   "outputs": [
    {
     "data": {
      "text/plain": [
       "{'jsonrpc': '2.0',\n",
       " 'id': 3,\n",
       " 'method': 'tools/call',\n",
       " 'params': {'name': 'set_weather',\n",
       "  'arguments': {'city': 'berlin', 'temp': 20.0}}}"
      ]
     },
     "execution_count": 13,
     "metadata": {},
     "output_type": "execute_result"
    }
   ],
   "source": [
    "{\"jsonrpc\": \"2.0\", \"id\": 3, \"method\": \"tools/call\", \"params\": {\"name\": \"set_weather\", \"arguments\": {\"city\": \"berlin\", \"temp\": 20.0}}}"
   ]
  },
  {
   "cell_type": "markdown",
   "id": "01a45a65",
   "metadata": {},
   "source": [
    "Let's ask the temperature in Berlin:"
   ]
  },
  {
   "cell_type": "code",
   "execution_count": 14,
   "id": "743f79e9",
   "metadata": {},
   "outputs": [
    {
     "data": {
      "text/plain": [
       "{'jsonrpc': '2.0',\n",
       " 'id': 3,\n",
       " 'method': 'tools/call',\n",
       " 'params': {'name': 'get_weather', 'arguments': {'city': 'berlin'}}}"
      ]
     },
     "execution_count": 14,
     "metadata": {},
     "output_type": "execute_result"
    }
   ],
   "source": [
    "{\"jsonrpc\": \"2.0\", \"id\": 3, \"method\": \"tools/call\", \"params\": {\"name\": \"get_weather\", \"arguments\": {\"city\": \"berlin\"}}}"
   ]
  },
  {
   "cell_type": "markdown",
   "id": "a64fc478",
   "metadata": {},
   "source": [
    "What did you get in response?"
   ]
  },
  {
   "cell_type": "markdown",
   "id": "80707ccf",
   "metadata": {},
   "source": [
    "### A5. Received a response of:\n",
    "\n",
    "```\n",
    "{'jsonrpc': '2.0',\n",
    " 'id': 3,\n",
    " 'method': 'tools/call',\n",
    " 'params': {'name': 'get_weather', 'arguments': {'city': 'berlin'}}}\n",
    "```"
   ]
  },
  {
   "cell_type": "markdown",
   "id": "b5788bd7",
   "metadata": {},
   "source": [
    "### Q6. Client\n",
    "\n",
    "We typically do not interact with the server by copy-pasting commands in the terminal.\n",
    "\n",
    "In practice, we use an MCP client.  Let's implement it.\n",
    "\n",
    "FastMCP also supports MCP clients:\n",
    "\n",
    "```python\n",
    "async def main():\n",
    "    async with Client(<TODO>) as mcp_client:\n",
    "        # TODO\n",
    "```"
   ]
  },
  {
   "cell_type": "markdown",
   "id": "a022c643",
   "metadata": {},
   "source": [
    "Use the client to get the list of available tools in our script.  How does the result loook?\n",
    "\n",
    "If you are running the code in Jupyter, you need to pass an instance of the MCP server to the `Client `:\n",
    "\n",
    "```python\n",
    "import weather_server\n",
    "\n",
    "async def main():\n",
    "    async with Client(weather_server.mcp) as mcp_client:\n",
    "        # ....\n",
    "```"
   ]
  },
  {
   "cell_type": "markdown",
   "id": "63be17c4",
   "metadata": {},
   "source": [
    "If you run it as a script, you will need to use asyncio:\n",
    "\n",
    "```python\n",
    "import asyncio\n",
    "\n",
    "async def main():\n",
    "    async with Client(\"weather_server.py\") as mcp_client:\n",
    "        # ...\n",
    "\n",
    "if __name__ == \"__main__\":\n",
    "    test = asyncio.run(main())\n",
    "```"
   ]
  },
  {
   "cell_type": "markdown",
   "id": "2f8a3bbf",
   "metadata": {},
   "source": [
    "Copy the output with the available tools when filling in the homework form."
   ]
  },
  {
   "cell_type": "markdown",
   "id": "91e7b701",
   "metadata": {},
   "source": [
    "Note: Jupyter already runs an async event loop, you should NOT use asyncio.run(). Just use await directly:"
   ]
  },
  {
   "cell_type": "code",
   "execution_count": 26,
   "id": "1c9e21da",
   "metadata": {},
   "outputs": [
    {
     "name": "stdout",
     "output_type": "stream",
     "text": [
      "Available tools: [Tool(name='get_weather', title=None, description='Retrieves the temperature for a specified city.\\n\\nParameters:\\n    city (str): The name of the city for which to retrieve weather data.\\n\\nReturns:\\n    float: The temperature associated with the city.', inputSchema={'properties': {'city': {'title': 'City', 'type': 'string'}}, 'required': ['city'], 'type': 'object'}, outputSchema={'properties': {'result': {'title': 'Result', 'type': 'number'}}, 'required': ['result'], 'title': '_WrappedResult', 'type': 'object', 'x-fastmcp-wrap-result': True}, annotations=None, meta=None), Tool(name='set_weather', title=None, description=\"Sets the temperature for a specified city.\\n\\nParameters:\\n    city (str): The name of the city for which to set the weather data.\\n    temp (float): The temperature to associate with the city.\\n\\nReturns:\\n    str: A confirmation string 'OK' indicating successful update.\", inputSchema={'properties': {'city': {'title': 'City', 'type': 'string'}, 'temp': {'title': 'Temp', 'type': 'number'}}, 'required': ['city', 'temp'], 'type': 'object'}, outputSchema={'properties': {'result': {'title': 'Result', 'type': 'string'}}, 'required': ['result'], 'title': '_WrappedResult', 'type': 'object', 'x-fastmcp-wrap-result': True}, annotations=None, meta=None)]\n"
     ]
    }
   ],
   "source": [
    "#import asyncio\n",
    "from fastmcp import Client\n",
    "import weather_server\n",
    "\n",
    "async def main():\n",
    "    async with Client(weather_server.mcp) as mcp_client:\n",
    "        tools = await mcp_client.list_tools()\n",
    "        print(f\"Available tools: {tools}\")\n",
    "        #forecast = await mcp_client.call_tool(\"get_weather\", {\"city\": \"Berlin\"})\n",
    "        #print(f\"🌤 Forecast in Berlin: {forecast.output}\")\n",
    "\n",
    "if __name__ == \"__main__\":\n",
    "    await main()"
   ]
  },
  {
   "cell_type": "markdown",
   "id": "7f9947ea",
   "metadata": {},
   "source": [
    "### Using tools from the MCP server (optional)\n",
    "\n",
    "FastMCP uses asyncio for client-server communication.  In our case, the we wrote previously in the module (chat_assistant.py) is not asyncio-friendly, so it will require a lot of adjustments to run it.\n",
    "\n",
    "Which is why we asked Claude to implement a simple non-async MCP client (see [mcp_client.py](mcp_client.py)) that can only do this:\n",
    "\n",
    "- List tools\n",
    "- Invoke the specified tool\n",
    "\n",
    "Note: this is not a production-ready MCP Client!  Use it only for learning purposes.\n",
    "\n",
    "Check the code - it's quite illustrative.  Or experiment with writing this code yourself.\n",
    "\n",
    "Here's how we can use it:"
   ]
  },
  {
   "cell_type": "code",
   "execution_count": 57,
   "id": "52a347df",
   "metadata": {},
   "outputs": [
    {
     "name": "stdout",
     "output_type": "stream",
     "text": [
      "Started server with command: python weather_server.py\n",
      "Sending initialize request...\n",
      "Initialize response: {'protocolVersion': '2024-11-05', 'capabilities': {'experimental': {}, 'prompts': {'listChanged': False}, 'resources': {'subscribe': False, 'listChanged': False}, 'tools': {'listChanged': True}}, 'serverInfo': {'name': 'Demo 🚀', 'version': '1.10.1'}}\n",
      "Sending initialized notification...\n",
      "Handshake completed successfully\n"
     ]
    }
   ],
   "source": [
    "import mcp_client\n",
    "\n",
    "our_mcp_client = mcp_client.MCPClient([\"python\", \"weather_server.py\"])\n",
    "\n",
    "our_mcp_client.start_server()\n",
    "our_mcp_client.initialize()\n",
    "our_mcp_client.initialized()"
   ]
  },
  {
   "cell_type": "markdown",
   "id": "f835fba6",
   "metadata": {},
   "source": [
    "While it's somewhat verbose, it follows the initialization structure we outlined in Q5.\n",
    "\n",
    "Now we can use it:"
   ]
  },
  {
   "cell_type": "code",
   "execution_count": 58,
   "id": "876c0200",
   "metadata": {},
   "outputs": [
    {
     "name": "stdout",
     "output_type": "stream",
     "text": [
      "Retrieving available tools...\n",
      "Available tools: ['get_weather', 'set_weather']\n",
      "Calling tool 'get_weather' with arguments: {'city': 'Berlin'}\n"
     ]
    },
    {
     "data": {
      "text/plain": [
       "{'content': [{'type': 'text', 'text': '-0.9'}],\n",
       " 'structuredContent': {'result': -0.9},\n",
       " 'isError': False}"
      ]
     },
     "execution_count": 58,
     "metadata": {},
     "output_type": "execute_result"
    }
   ],
   "source": [
    "our_mcp_client.get_tools()\n",
    "our_mcp_client.call_tool('get_weather', {'city': 'Berlin'})"
   ]
  },
  {
   "cell_type": "markdown",
   "id": "9cb2e8d1",
   "metadata": {},
   "source": [
    "In order to include it in our existing application, we need a wrapper class:"
   ]
  },
  {
   "cell_type": "code",
   "execution_count": 59,
   "id": "6eee34dc",
   "metadata": {},
   "outputs": [],
   "source": [
    "import json\n",
    "\n",
    "class MCPTools:\n",
    "    def __init__(self, mcp_client):\n",
    "        self.mcp_client = mcp_client\n",
    "        self.tools = None\n",
    "    \n",
    "    def get_tools(self):\n",
    "        if self.tools is None:\n",
    "            mcp_tools = self.mcp_client.get_tools()\n",
    "            self.tools = convert_tools_list(mcp_tools)\n",
    "        return self.tools\n",
    "\n",
    "    def function_call(self, tool_call_response):\n",
    "        function_name = tool_call_response.name\n",
    "        arguments = json.loads(tool_call_response.arguments)\n",
    "\n",
    "        result = self.mcp_client.call_tool(function_name, arguments)\n",
    "\n",
    "        return {\n",
    "            \"type\": \"function_call_output\",\n",
    "            \"call_id\": tool_call_response.call_id,\n",
    "            \"output\": json.dumps(result, indent=2),\n",
    "        }"
   ]
  },
  {
   "cell_type": "markdown",
   "id": "a61a1e25",
   "metadata": {},
   "source": [
    "It's very similar to the `Tools` class we created in the module, but it uses MCP to communicate with the MCP server.\n",
    "\n",
    "(Where `convert_tools_list` converts MCP functions description format into the OpenAI's one)\n",
    "\n",
    "Let's use it:"
   ]
  },
  {
   "cell_type": "code",
   "execution_count": null,
   "id": "f5f3735c",
   "metadata": {},
   "outputs": [
    {
     "name": "stdout",
     "output_type": "stream",
     "text": [
      "Started server with command: python weather_server.py\n",
      "Sending initialize request...\n",
      "Initialize response: {'protocolVersion': '2024-11-05', 'capabilities': {'experimental': {}, 'prompts': {'listChanged': False}, 'resources': {'subscribe': False, 'listChanged': False}, 'tools': {'listChanged': True}}, 'serverInfo': {'name': 'Demo 🚀', 'version': '1.10.1'}}\n",
      "Sending initialized notification...\n",
      "Handshake completed successfully\n"
     ]
    }
   ],
   "source": [
    "our_mcp_client = mcp_client.MCPClient([\"python\", \"weather_server.py\"])\n",
    "\n",
    "our_mcp_client.start_server()\n",
    "our_mcp_client.initialize()\n",
    "our_mcp_client.initialized()\n",
    "\n",
    "mcp_tools = mcp_client.MCPTools(mcp_client=our_mcp_client)\n",
    "\n",
    "\n",
    "developer_prompt = \"\"\"\n",
    "You help users find out the weather in their cities. \n",
    "If they didn't specify a city, ask them. Make sure we always use a city.\n",
    "\"\"\".strip()\n",
    "\n",
    "chat_interface = chat_assistant.ChatInterface()\n",
    "\n",
    "chat = chat_assistant.ChatAssistant(\n",
    "    tools=mcp_tools,\n",
    "    developer_prompt=developer_prompt,\n",
    "    chat_interface=chat_interface,\n",
    "    client=our_mcp_client \n",
    ")\n",
    "\n",
    "chat.run()"
   ]
  },
  {
   "cell_type": "markdown",
   "id": "54ae7e15",
   "metadata": {},
   "source": [
    "Now we can use the MCP server for function calling!"
   ]
  }
 ],
 "metadata": {
  "kernelspec": {
   "display_name": "Python 3 (ipykernel)",
   "language": "python",
   "name": "python3"
  },
  "language_info": {
   "codemirror_mode": {
    "name": "ipython",
    "version": 3
   },
   "file_extension": ".py",
   "mimetype": "text/x-python",
   "name": "python",
   "nbconvert_exporter": "python",
   "pygments_lexer": "ipython3",
   "version": "3.12.1"
  }
 },
 "nbformat": 4,
 "nbformat_minor": 5
}

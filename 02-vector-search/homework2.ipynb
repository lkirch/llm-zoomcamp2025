{
 "cells": [
  {
   "cell_type": "markdown",
   "id": "adf726b3",
   "metadata": {},
   "source": [
    "### Homework: Vector Search\n",
    "\n",
    "In this homework, we will learn more about vector search and embedding. Like in the module, we will use Qdrant and fastembed."
   ]
  },
  {
   "cell_type": "markdown",
   "id": "b37c1ea2",
   "metadata": {},
   "source": [
    "Remember to start docker first:\n",
    "\n",
    "```\n",
    "docker run -p 6333:6333 -p 6334:6334 \\\n",
    "   -v \"$(pwd)/qdrant_storage:/qdrant/storage:z\" \\\n",
    "   qdrant/qdrant\n",
    "```"
   ]
  },
  {
   "cell_type": "markdown",
   "id": "7ae371ea",
   "metadata": {},
   "source": [
    "### Embeddings\n",
    "\n",
    "Qdrant uses [fastembed](https://github.com/qdrant/fastembed) under the hood to turn text into vectors.\n",
    "\n",
    "`pip install fastembed`\n",
    "\n",
    "`pip install -q \"qdrant-client[fastembed]>=1.14.2\"`"
   ]
  },
  {
   "cell_type": "code",
   "execution_count": 18,
   "id": "a07f62d4",
   "metadata": {},
   "outputs": [],
   "source": [
    "from fastembed import TextEmbedding\n",
    "import numpy as np\n",
    "from numpy.linalg import norm\n",
    "import requests \n",
    "from qdrant_client import QdrantClient"
   ]
  },
  {
   "cell_type": "markdown",
   "id": "bd531a97",
   "metadata": {},
   "source": [
    "### Q1. Embedding the query\n",
    "\n",
    "Embed the query: `'I just discovered the course. Can I join now?'`.  Use the `'jinaai/jina-embeddings-v2-small-en'` model.\n",
    "\n",
    "You should get a numpy array of size 512.\n",
    "\n",
    "What's the minimal value in this array?\n",
    "\n",
    "* -0.51\n",
    "* -0.11\n",
    "* 0\n",
    "* 0.51"
   ]
  },
  {
   "cell_type": "code",
   "execution_count": 2,
   "id": "a3b91c07",
   "metadata": {},
   "outputs": [],
   "source": [
    "EMBEDDING_DIMENSIONALITY = 512\n",
    "model_handle = \"jinaai/jina-embeddings-v2-small-en\"\n",
    "query = \"I just discovered the course. Can I join now?\"\n",
    "collection_name = \"zoomcamp-rag\""
   ]
  },
  {
   "cell_type": "markdown",
   "id": "60387a77",
   "metadata": {},
   "source": [
    "We previously create a collection in semantic_search.ipynb:\n",
    "\n",
    "```\n",
    "# Define the collection name\n",
    "collection_name = \"zoomcamp-rag\"\n",
    "\n",
    "# Create the collection with specified vector parameters\n",
    "client.create_collection(\n",
    "    collection_name=collection_name,\n",
    "    vectors_config=models.VectorParams(\n",
    "        size=EMBEDDING_DIMENSIONALITY,  # Dimensionality of the vectors\n",
    "        distance=models.Distance.COSINE  # Distance metric for similarity search\n",
    "    )\n",
    ")\n",
    "```\n"
   ]
  },
  {
   "cell_type": "code",
   "execution_count": 3,
   "id": "1d5a5022",
   "metadata": {},
   "outputs": [
    {
     "name": "stdout",
     "output_type": "stream",
     "text": [
      "-0.11726373885183883\n"
     ]
    }
   ],
   "source": [
    "model = TextEmbedding(model_name=model_handle)\n",
    "embedding = list(model.embed([query]))[0] # get the first embedding\n",
    "query_embedding = np.array(embedding) # convert to an array\n",
    "print(np.min(query_embedding))"
   ]
  },
  {
   "cell_type": "markdown",
   "id": "d96515aa",
   "metadata": {},
   "source": [
    "### A1. The minimum value in the embedded query array is -0.11."
   ]
  },
  {
   "cell_type": "markdown",
   "id": "95302c82",
   "metadata": {},
   "source": [
    "### Cosine Similarity\n",
    "\n",
    "The vectors that our embedding model returns are already normailized: their length is 1.0.\n",
    "\n",
    "You can check that by using the `norm` function:\n",
    "\n",
    "`np.linalg.norm(q)`\n",
    "\n",
    "Which means that we can simply compute the dot product between the two vectors to learn the cosine similarity between them.\n",
    "\n",
    "For example, if you compute the cosine of the query vector with itself, the result will be 1.0:\n",
    "\n",
    "`q.dot(q)`"
   ]
  },
  {
   "cell_type": "code",
   "execution_count": 4,
   "id": "b723c907",
   "metadata": {},
   "outputs": [
    {
     "data": {
      "text/plain": [
       "np.float64(1.0)"
      ]
     },
     "execution_count": 4,
     "metadata": {},
     "output_type": "execute_result"
    }
   ],
   "source": [
    "norm(query_embedding)"
   ]
  },
  {
   "cell_type": "code",
   "execution_count": 5,
   "id": "58574a2b",
   "metadata": {},
   "outputs": [
    {
     "data": {
      "text/plain": [
       "np.float64(1.0000000000000002)"
      ]
     },
     "execution_count": 5,
     "metadata": {},
     "output_type": "execute_result"
    }
   ],
   "source": [
    "query_embedding.dot(query_embedding)"
   ]
  },
  {
   "cell_type": "markdown",
   "id": "548b1130",
   "metadata": {},
   "source": [
    "### Q2. Cosine similarity with another vector\n",
    "\n",
    "Now let's embed this document:\n",
    "\n",
    "`doc = 'Can I still join the course after the start date?'`\n",
    "\n",
    "What's the cosine similarity between the vector for the query and the vector for the document?\n",
    "\n",
    "* 0.3\n",
    "* 0.5\n",
    "* 0.7\n",
    "* 0.9"
   ]
  },
  {
   "cell_type": "code",
   "execution_count": 6,
   "id": "66e74301",
   "metadata": {},
   "outputs": [],
   "source": [
    "doc = 'Can I still join the course after the start date?'\n",
    "doc_embedding = list(model.embed([doc]))[0]\n",
    "doc_embedding = np.array(doc_embedding) # convert to an array"
   ]
  },
  {
   "cell_type": "code",
   "execution_count": 7,
   "id": "b8865171",
   "metadata": {},
   "outputs": [
    {
     "data": {
      "text/plain": [
       "np.float64(0.9008528895674548)"
      ]
     },
     "execution_count": 7,
     "metadata": {},
     "output_type": "execute_result"
    }
   ],
   "source": [
    "query_embedding.dot(doc_embedding)"
   ]
  },
  {
   "cell_type": "markdown",
   "id": "738b4a37",
   "metadata": {},
   "source": [
    "### A2. The cosine similarity between the vector for the query and the vector for the document is 0.9."
   ]
  },
  {
   "cell_type": "markdown",
   "id": "03231098",
   "metadata": {},
   "source": [
    "### Q3. Ranking by cosine\n",
    "\n",
    "For Q3 and Q4 we will use these documents:\n"
   ]
  },
  {
   "cell_type": "code",
   "execution_count": 8,
   "id": "cf411f87",
   "metadata": {},
   "outputs": [],
   "source": [
    "documents = [{'text': \"Yes, even if you don't register, you're still eligible to submit the homeworks.\\nBe aware, however, that there will be deadlines for turning in the final projects. So don't leave everything for the last minute.\",\n",
    "  'section': 'General course-related questions',\n",
    "  'question': 'Course - Can I still join the course after the start date?',\n",
    "  'course': 'data-engineering-zoomcamp'},\n",
    " {'text': 'Yes, we will keep all the materials after the course finishes, so you can follow the course at your own pace after it finishes.\\nYou can also continue looking at the homeworks and continue preparing for the next cohort. I guess you can also start working on your final capstone project.',\n",
    "  'section': 'General course-related questions',\n",
    "  'question': 'Course - Can I follow the course after it finishes?',\n",
    "  'course': 'data-engineering-zoomcamp'},\n",
    " {'text': \"The purpose of this document is to capture frequently asked technical questions\\nThe exact day and hour of the course will be 15th Jan 2024 at 17h00. The course will start with the first  “Office Hours'' live.1\\nSubscribe to course public Google Calendar (it works from Desktop only).\\nRegister before the course starts using this link.\\nJoin the course Telegram channel with announcements.\\nDon’t forget to register in DataTalks.Club's Slack and join the channel.\",\n",
    "  'section': 'General course-related questions',\n",
    "  'question': 'Course - When will the course start?',\n",
    "  'course': 'data-engineering-zoomcamp'},\n",
    " {'text': 'You can start by installing and setting up all the dependencies and requirements:\\nGoogle cloud account\\nGoogle Cloud SDK\\nPython 3 (installed with Anaconda)\\nTerraform\\nGit\\nLook over the prerequisites and syllabus to see if you are comfortable with these subjects.',\n",
    "  'section': 'General course-related questions',\n",
    "  'question': 'Course - What can I do before the course starts?',\n",
    "  'course': 'data-engineering-zoomcamp'},\n",
    " {'text': 'Star the repo! Share it with friends if you find it useful ❣️\\nCreate a PR if you see you can improve the text or the structure of the repository.',\n",
    "  'section': 'General course-related questions',\n",
    "  'question': 'How can we contribute to the course?',\n",
    "  'course': 'data-engineering-zoomcamp'}]"
   ]
  },
  {
   "cell_type": "markdown",
   "id": "f0338d09",
   "metadata": {},
   "source": [
    "Compute the embeddings for the text field, and compute the cosine between the query vector and all the documents.\n",
    "\n",
    "What's the document index with the highest similarity? (Indexing starts from 0):\n",
    "\n",
    "* 0\n",
    "* 1\n",
    "* 2\n",
    "* 3\n",
    "* 4\n",
    "\n",
    "Hint: If you put al the embeddings of the text field in one matrix V (a single 2-dimensional numpy array), then computing the cosine becomes matrix multiplication:\n",
    "\n",
    "`V.dot(q)`"
   ]
  },
  {
   "cell_type": "markdown",
   "id": "afa95d89",
   "metadata": {},
   "source": [
    "Create the embeddings for the text field of the documents:"
   ]
  },
  {
   "cell_type": "code",
   "execution_count": 9,
   "id": "b464811a",
   "metadata": {},
   "outputs": [],
   "source": [
    "doc_embeddings = [np.array(list(model.embed([doc[\"text\"]])))[0] for doc in documents]"
   ]
  },
  {
   "cell_type": "markdown",
   "id": "758f20ec",
   "metadata": {},
   "source": [
    "We already have our `query_embedding` from above:"
   ]
  },
  {
   "cell_type": "markdown",
   "id": "5285285a",
   "metadata": {},
   "source": [
    "Calculate the cosine similarity"
   ]
  },
  {
   "cell_type": "code",
   "execution_count": 10,
   "id": "9737f3fd",
   "metadata": {},
   "outputs": [
    {
     "data": {
      "text/plain": [
       "[np.float64(0.7629684696540238),\n",
       " np.float64(0.8182378150042889),\n",
       " np.float64(0.8085397398734189),\n",
       " np.float64(0.7133079015686243),\n",
       " np.float64(0.7304499234333598)]"
      ]
     },
     "execution_count": 10,
     "metadata": {},
     "output_type": "execute_result"
    }
   ],
   "source": [
    "cosine_similarities = [np.dot(query_embedding, doc_emb) / (norm(query_embedding) * norm(doc_emb))\n",
    "    for doc_emb in doc_embeddings\n",
    "]\n",
    "cosine_similarities"
   ]
  },
  {
   "cell_type": "markdown",
   "id": "38169575",
   "metadata": {},
   "source": [
    "Find the most similar document"
   ]
  },
  {
   "cell_type": "code",
   "execution_count": 11,
   "id": "d88bd736",
   "metadata": {},
   "outputs": [
    {
     "name": "stdout",
     "output_type": "stream",
     "text": [
      "Highest similarity score: 0.8182 at index 1\n"
     ]
    }
   ],
   "source": [
    "max_index = np.argmax(cosine_similarities)\n",
    "print(f\"Highest similarity score: {cosine_similarities[max_index]:.4f} at index {max_index}\")"
   ]
  },
  {
   "cell_type": "markdown",
   "id": "ef4b5e88",
   "metadata": {},
   "source": [
    "### A3. The most similar document has index = 1.  "
   ]
  },
  {
   "cell_type": "markdown",
   "id": "aeff2aa5",
   "metadata": {},
   "source": [
    "### Q4. Ranking by cosine, version two\n",
    "\n",
    "Now, let's calculate a new field, which is a concatenation of `question` and `text`:\n",
    "\n",
    "`full_text = doc['question'] + ' ' + doc['text']`\n",
    "\n",
    "Embed this field and compute the cosine between it and the query vector.  What's the highest scoring document?\n",
    "\n",
    "* 0\n",
    "* 1\n",
    "* 2\n",
    "* 3\n",
    "* 4\n",
    "\n",
    "Is it different from Q3?  If yes, why?"
   ]
  },
  {
   "cell_type": "code",
   "execution_count": 12,
   "id": "bc57c7df",
   "metadata": {},
   "outputs": [],
   "source": [
    "documents = [\n",
    "    {\n",
    "        'full_text': f\"{doc['question']} {doc['text']}\", \n",
    "        **doc\n",
    "    } \n",
    "    for doc in documents\n",
    "]"
   ]
  },
  {
   "cell_type": "code",
   "execution_count": 13,
   "id": "84a2c891",
   "metadata": {},
   "outputs": [],
   "source": [
    "doc_embeddings = np.array(list(model.embed([doc['full_text'] for doc in documents])))\n"
   ]
  },
  {
   "cell_type": "code",
   "execution_count": 14,
   "id": "f5d09e90",
   "metadata": {},
   "outputs": [],
   "source": [
    "cosine_similarities = [\n",
    "    np.dot(query_embedding, doc_emb) / (norm(query_embedding) * norm(doc_emb))\n",
    "    for doc_emb in doc_embeddings\n",
    "]"
   ]
  },
  {
   "cell_type": "code",
   "execution_count": 15,
   "id": "393da22b",
   "metadata": {},
   "outputs": [
    {
     "name": "stdout",
     "output_type": "stream",
     "text": [
      "Highest similarity score: 0.8515 at index 0\n"
     ]
    }
   ],
   "source": [
    "max_index = np.argmax(cosine_similarities)\n",
    "print(f\"Highest similarity score: {cosine_similarities[max_index]:.4f} at index {max_index}\")"
   ]
  },
  {
   "cell_type": "markdown",
   "id": "b1a0012f",
   "metadata": {},
   "source": [
    "### A4. The highest similarity score is now index 0. By combining the question and text, we create richer context vectors, since it captures both the intent (the question) and the contect (the text)."
   ]
  },
  {
   "cell_type": "markdown",
   "id": "df5e6997",
   "metadata": {},
   "source": [
    "### Q5. Selecting the embedding model\n",
    "\n",
    "Now let's select a smaller embedding model.  What's the smallest dimensionality for models in fastembed?\n",
    "\n",
    "* 128\n",
    "* 256\n",
    "* 384\n",
    "* 512\n",
    "\n",
    "One of these models is [`BAAI/bge-small-en`](https://huggingface.co/BAAI/bge-small-en-v1.5). Let's use it."
   ]
  },
  {
   "cell_type": "markdown",
   "id": "584f3d1d",
   "metadata": {},
   "source": [
    "### A5. According to the model card at Huggingface, the dimension of the `BAAI/bge-small-en` is 384."
   ]
  },
  {
   "cell_type": "markdown",
   "id": "12af2c3c",
   "metadata": {},
   "source": [
    "### Q6. Indexing with qdrant\n",
    "\n",
    "For the last question, we will use more documents.\n",
    "\n",
    "We will select only FAQ records from our ml zoomcamp."
   ]
  },
  {
   "cell_type": "code",
   "execution_count": null,
   "id": "51e97484",
   "metadata": {},
   "outputs": [],
   "source": [
    "docs_url = 'https://github.com/alexeygrigorev/llm-rag-workshop/raw/main/notebooks/documents.json'\n",
    "docs_response = requests.get(docs_url)\n",
    "documents_raw = docs_response.json()\n",
    "\n",
    "documents = []\n",
    "\n",
    "for course in documents_raw:\n",
    "    course_name = course['course']\n",
    "    if course_name != 'machine-learning-zoomcamp':\n",
    "        continue\n",
    "\n",
    "    for doc in course['documents']:\n",
    "        doc['course'] = course_name\n",
    "        documents.append(doc)"
   ]
  },
  {
   "cell_type": "code",
   "execution_count": 19,
   "id": "a50f5043",
   "metadata": {},
   "outputs": [
    {
     "data": {
      "text/plain": [
       "{'text': 'Machine Learning Zoomcamp FAQ\\nThe purpose of this document is to capture frequently asked technical questions.\\nWe did this for our data engineering course and it worked quite well. Check this document for inspiration on how to structure your questions and answers:\\nData Engineering Zoomcamp FAQ\\nIn the course GitHub repository there’s a link. Here it is: https://airtable.com/shryxwLd0COOEaqXo\\nwork',\n",
       " 'section': 'General course-related questions',\n",
       " 'question': 'How do I sign up?',\n",
       " 'course': 'machine-learning-zoomcamp'}"
      ]
     },
     "execution_count": 19,
     "metadata": {},
     "output_type": "execute_result"
    }
   ],
   "source": [
    "documents[0]"
   ]
  },
  {
   "cell_type": "markdown",
   "id": "8604e4f5",
   "metadata": {},
   "source": [
    "Add them to qdrant using the model form in Q5.\n",
    "\n",
    "When adding the data, use both question and answer fields:\n",
    "\n",
    "`text = doc['question'] + ' ' + doc['text']`"
   ]
  },
  {
   "cell_type": "code",
   "execution_count": null,
   "id": "3ea69e08",
   "metadata": {},
   "outputs": [],
   "source": [
    "# Initialize the client\n",
    "#client = QdrantClient(\"localhost\", port=6333) # for production\n",
    "# client.set_model(\"BAAI/bge-small-en\")\n",
    "client = QdrantClient(\":memory:\", model_name=\"BAAI/bge-small-en\") # for small experiments"
   ]
  },
  {
   "cell_type": "code",
   "execution_count": 22,
   "id": "f4550fc8",
   "metadata": {},
   "outputs": [],
   "source": [
    "combined_texts = [f\"{doc['question']} {doc['text']}\" for doc in documents]\n",
    "metadata = [\n",
    "    {\n",
    "        \"section\": doc['section'],\n",
    "        \"course\": doc['course'],\n",
    "        \"original_text\": doc['text'],\n",
    "        \"original_question\": doc['question']\n",
    "    } for doc in documents\n",
    "]"
   ]
  },
  {
   "cell_type": "code",
   "execution_count": 23,
   "id": "b4bf3054",
   "metadata": {},
   "outputs": [
    {
     "data": {
      "application/vnd.jupyter.widget-view+json": {
       "model_id": "2d562dfd61ba4628a835639e47465075",
       "version_major": 2,
       "version_minor": 0
      },
      "text/plain": [
       "Fetching 5 files:   0%|          | 0/5 [00:00<?, ?it/s]"
      ]
     },
     "metadata": {},
     "output_type": "display_data"
    },
    {
     "data": {
      "application/vnd.jupyter.widget-view+json": {
       "model_id": "69c8aa4fef034495b7ad137d97410f7b",
       "version_major": 2,
       "version_minor": 0
      },
      "text/plain": [
       "special_tokens_map.json:   0%|          | 0.00/125 [00:00<?, ?B/s]"
      ]
     },
     "metadata": {},
     "output_type": "display_data"
    },
    {
     "data": {
      "application/vnd.jupyter.widget-view+json": {
       "model_id": "d3c455243c354418b8a5898d852a7195",
       "version_major": 2,
       "version_minor": 0
      },
      "text/plain": [
       "config.json:   0%|          | 0.00/701 [00:00<?, ?B/s]"
      ]
     },
     "metadata": {},
     "output_type": "display_data"
    },
    {
     "data": {
      "application/vnd.jupyter.widget-view+json": {
       "model_id": "f205fe44ca2e4bbda2d71150ccdde002",
       "version_major": 2,
       "version_minor": 0
      },
      "text/plain": [
       "model_optimized.onnx:   0%|          | 0.00/133M [00:00<?, ?B/s]"
      ]
     },
     "metadata": {},
     "output_type": "display_data"
    },
    {
     "data": {
      "application/vnd.jupyter.widget-view+json": {
       "model_id": "407f74b8e4c94555854415bbc1935862",
       "version_major": 2,
       "version_minor": 0
      },
      "text/plain": [
       "tokenizer.json:   0%|          | 0.00/711k [00:00<?, ?B/s]"
      ]
     },
     "metadata": {},
     "output_type": "display_data"
    },
    {
     "data": {
      "application/vnd.jupyter.widget-view+json": {
       "model_id": "6591c981bbe14d318bf83cfcd2c048ed",
       "version_major": 2,
       "version_minor": 0
      },
      "text/plain": [
       "tokenizer_config.json:   0%|          | 0.00/366 [00:00<?, ?B/s]"
      ]
     },
     "metadata": {},
     "output_type": "display_data"
    }
   ],
   "source": [
    "document_ids = client.add(\n",
    "    collection_name=\"hmwk2_ml_zoomcamp_qa\",\n",
    "    documents=combined_texts,\n",
    "    metadata=metadata,\n",
    "    batch_size=32 \n",
    ")\n"
   ]
  },
  {
   "cell_type": "markdown",
   "id": "275c251a",
   "metadata": {},
   "source": [
    "After the data is inserted, use the question from Q1 for querying the collection.\n",
    "\n",
    "What's the highest score in the results? (the score for the first returned record)):\n",
    "\n",
    "* 0.97\n",
    "* 0.87\n",
    "* 0.77\n",
    "* 0.67"
   ]
  },
  {
   "cell_type": "code",
   "execution_count": 24,
   "id": "69edec33",
   "metadata": {},
   "outputs": [
    {
     "name": "stdout",
     "output_type": "stream",
     "text": [
      "I just discovered the course. Can I join now?\n"
     ]
    }
   ],
   "source": [
    "print(query)"
   ]
  },
  {
   "cell_type": "code",
   "execution_count": 25,
   "id": "4f59bfe6",
   "metadata": {},
   "outputs": [
    {
     "name": "stdout",
     "output_type": "stream",
     "text": [
      "[QueryResponse(id='a458073abd3a43698870fbb76d4dba47', embedding=None, sparse_embedding=None, metadata={'document': 'The course has already started. Can I still join it? Yes, you can. You won’t be able to submit some of the homeworks, but you can still take part in the course.\\nIn order to get a certificate, you need to submit 2 out of 3 course projects and review 3 peers’ Projects by the deadline. It means that if you join the course at the end of November and manage to work on two projects, you will still be eligible for a certificate.', 'section': 'General course-related questions', 'course': 'machine-learning-zoomcamp', 'original_text': 'Yes, you can. You won’t be able to submit some of the homeworks, but you can still take part in the course.\\nIn order to get a certificate, you need to submit 2 out of 3 course projects and review 3 peers’ Projects by the deadline. It means that if you join the course at the end of November and manage to work on two projects, you will still be eligible for a certificate.', 'original_question': 'The course has already started. Can I still join it?'}, document='The course has already started. Can I still join it? Yes, you can. You won’t be able to submit some of the homeworks, but you can still take part in the course.\\nIn order to get a certificate, you need to submit 2 out of 3 course projects and review 3 peers’ Projects by the deadline. It means that if you join the course at the end of November and manage to work on two projects, you will still be eligible for a certificate.', score=0.8703173344744922)]\n"
     ]
    }
   ],
   "source": [
    "results = client.query(\n",
    "    collection_name=\"hmwk2_ml_zoomcamp_qa\",\n",
    "    query_text=query,\n",
    "    limit=1\n",
    ")\n",
    "print(results)"
   ]
  },
  {
   "cell_type": "code",
   "execution_count": 26,
   "id": "5b5487cc",
   "metadata": {},
   "outputs": [
    {
     "name": "stdout",
     "output_type": "stream",
     "text": [
      "0.8703173344744922\n"
     ]
    }
   ],
   "source": [
    "for hit in results:\n",
    "    print(hit.score)"
   ]
  },
  {
   "cell_type": "markdown",
   "id": "a5b7c844",
   "metadata": {},
   "source": [
    "### A6. The highest score in the returned results was 0.87. \n",
    "\n",
    "\n",
    "\n"
   ]
  }
 ],
 "metadata": {
  "kernelspec": {
   "display_name": "Python 3 (ipykernel)",
   "language": "python",
   "name": "python3"
  },
  "language_info": {
   "codemirror_mode": {
    "name": "ipython",
    "version": 3
   },
   "file_extension": ".py",
   "mimetype": "text/x-python",
   "name": "python",
   "nbconvert_exporter": "python",
   "pygments_lexer": "ipython3",
   "version": "3.12.1"
  }
 },
 "nbformat": 4,
 "nbformat_minor": 5
}

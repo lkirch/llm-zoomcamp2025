{
 "cells": [
  {
   "cell_type": "markdown",
   "id": "adf726b3",
   "metadata": {},
   "source": [
    "### Homework: Vector Search\n",
    "\n",
    "In this homework, we will learn more about vector search and embedding. Like in the module, we will use Qdrant and fastembed."
   ]
  },
  {
   "cell_type": "markdown",
   "id": "7ae371ea",
   "metadata": {},
   "source": [
    "### Embeddings\n",
    "\n",
    "Qdrant uses [fastembed](https://github.com/qdrant/fastembed) under the hood to turn text into vectors.\n",
    "\n",
    "`pip install fastembed`\n",
    "\n",
    "`pip install -q \"qdrant-client[fastembed]>=1.14.2\"`"
   ]
  },
  {
   "cell_type": "code",
   "execution_count": 1,
   "id": "a07f62d4",
   "metadata": {},
   "outputs": [],
   "source": [
    "from fastembed import TextEmbedding"
   ]
  },
  {
   "cell_type": "markdown",
   "id": "bd531a97",
   "metadata": {},
   "source": [
    "### Q1. Embedding the query\n",
    "\n",
    "Embed the query: `'I just discovered the course. Can I join now?'`.  Use the `'jinaai/jina-embeddings-v2-small-en'` model.\n",
    "\n",
    "You should get a numpy array of size 512.\n",
    "\n",
    "What's the minimal value in this array?\n",
    "\n",
    "* -0.51\n",
    "* -0.11\n",
    "* 0\n",
    "* 0.51"
   ]
  },
  {
   "cell_type": "code",
   "execution_count": 4,
   "id": "a3b91c07",
   "metadata": {},
   "outputs": [],
   "source": [
    "EMBEDDING_DIMENSIONALITY = 512\n",
    "model_handle = \"jinaai/jina-embeddings-v2-small-en\"\n",
    "query = \"I just discovered the course. Can I join now?\""
   ]
  },
  {
   "cell_type": "markdown",
   "id": "60387a77",
   "metadata": {},
   "source": [
    "We previously create a collection in semantic_search.ipynb:\n",
    "\n",
    "```\n",
    "# Define the collection name\n",
    "collection_name = \"zoomcamp-rag\"\n",
    "\n",
    "# Create the collection with specified vector parameters\n",
    "client.create_collection(\n",
    "    collection_name=collection_name,\n",
    "    vectors_config=models.VectorParams(\n",
    "        size=EMBEDDING_DIMENSIONALITY,  # Dimensionality of the vectors\n",
    "        distance=models.Distance.COSINE  # Distance metric for similarity search\n",
    "    )\n",
    ")\n",
    "```\n"
   ]
  },
  {
   "cell_type": "code",
   "execution_count": null,
   "id": "a5b7c844",
   "metadata": {},
   "outputs": [],
   "source": [
    "from qdrant_client import QdrantClient\n",
    "\n",
    "# Initialize the client\n",
    "client = QdrantClient(\"localhost\", port=6333) # For production\n",
    "# client = QdrantClient(\":memory:\") # For small experiments\n",
    "\n",
    "# Prepare your documents, metadata, and IDs\n",
    "docs = [\"Qdrant has Langchain integrations\", \"Qdrant also has Llama Index integrations\"]\n",
    "metadata = [\n",
    "    {\"source\": \"Langchain-docs\"},\n",
    "    {\"source\": \"Llama-index-docs\"},\n",
    "]\n",
    "ids = [42, 2]\n",
    "\n",
    "# If you want to change the model:\n",
    "# client.set_model(\"sentence-transformers/all-MiniLM-L6-v2\")\n",
    "# List of supported models: https://qdrant.github.io/fastembed/examples/Supported_Models\n",
    "\n",
    "# Use the new add() instead of upsert()\n",
    "# This internally calls embed() of the configured embedding model\n",
    "client.add(\n",
    "    collection_name=\"demo_collection\",\n",
    "    documents=docs,\n",
    "    metadata=metadata,\n",
    "    ids=ids\n",
    ")\n",
    "\n",
    "search_result = client.query(\n",
    "    collection_name=\"demo_collection\",\n",
    "    query_text=\"This is a query document\"\n",
    ")\n",
    "print(search_result)"
   ]
  }
 ],
 "metadata": {
  "kernelspec": {
   "display_name": "Python 3 (ipykernel)",
   "language": "python",
   "name": "python3"
  },
  "language_info": {
   "codemirror_mode": {
    "name": "ipython",
    "version": 3
   },
   "file_extension": ".py",
   "mimetype": "text/x-python",
   "name": "python",
   "nbconvert_exporter": "python",
   "pygments_lexer": "ipython3",
   "version": "3.12.1"
  }
 },
 "nbformat": 4,
 "nbformat_minor": 5
}
